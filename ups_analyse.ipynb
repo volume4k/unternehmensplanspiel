{
 "cells": [
  {
   "cell_type": "code",
   "execution_count": 3,
   "id": "initial_id",
   "metadata": {
    "ExecuteTime": {
     "end_time": "2025-04-02T21:26:06.739483Z",
     "start_time": "2025-04-02T21:26:06.731231Z"
    },
    "collapsed": true
   },
   "outputs": [],
   "source": [
    "import pandas as pd\n",
    "import numpy as np\n",
    "\n",
    "pd.set_option('display.max_columns', None)\n",
    "pd.set_option('display.max_rows', None)\n",
    "pd.set_option('display.width', None)"
   ]
  },
  {
   "cell_type": "code",
   "execution_count": 6,
   "id": "6376cddd",
   "metadata": {
    "ExecuteTime": {
     "end_time": "2025-04-02T22:04:27.387371Z",
     "start_time": "2025-04-02T22:04:27.371543Z"
    }
   },
   "outputs": [],
   "source": [
    "# Import the excel file\n",
    "excel_file = 'reports.xls'\n",
    "dfs = pd.read_excel(excel_file, sheet_name=None, header=3)"
   ]
  },
  {
   "cell_type": "code",
   "execution_count": 7,
   "id": "eeaf3a05",
   "metadata": {
    "ExecuteTime": {
     "end_time": "2025-04-02T22:05:50.155512Z",
     "start_time": "2025-04-02T22:05:50.137524Z"
    }
   },
   "outputs": [
    {
     "name": "stdout",
     "output_type": "stream",
     "text": [
      "\n",
      "Berechnete Summen:\n",
      "Summe Einzelkosten: 69.11 MEUR\n",
      "Summe Gemeinkosten: 39.41 MEUR\n",
      "Gesamtkosten: 108.52 MEUR\n"
     ]
    }
   ],
   "source": [
    "from datenklassen import Kostenartenrechnung\n",
    "\n",
    "kosten_df = dfs['7) Kostenartenrechnung']\n",
    "\n",
    "# Hilfsfunktion für leere Werte\n",
    "def get_value(df, row, col):\n",
    "    val = df.iloc[row][col]\n",
    "    if pd.isna(val) or str(val).strip() == '':  # Prüft auf NaN, None, leere Strings oder nur Leerzeichen\n",
    "        return 0.0\n",
    "    return float(val)\n",
    "\n",
    "# Erstelle das Kostenartenrechnung-Objekt\n",
    "kar = Kostenartenrechnung(\n",
    "    # Material\n",
    "    Materialeinzelkosten=get_value(kosten_df, 2, 'Einzelkosten'),  # Einsatzstoffe/Teile\n",
    "    Materialgemeinkosten=get_value(kosten_df, 2, 'Gemeinkosten'),\n",
    "    \n",
    "    # Betriebsstoffe\n",
    "    Betriebsstoffeeinzelkosten=get_value(kosten_df, 3, 'Einzelkosten'),\n",
    "    Betriebsstoffegemeinkosten=get_value(kosten_df, 3, 'Gemeinkosten'),\n",
    "    \n",
    "    # Personal\n",
    "    Personaleinzelkosten=get_value(kosten_df, 4, 'Einzelkosten'),\n",
    "    Personalgemeinkosten=get_value(kosten_df, 4, 'Gemeinkosten'),\n",
    "    \n",
    "    # Löhne/Gehälter\n",
    "    LoehneGehaelterEinzelkosten=get_value(kosten_df, 5, 'Einzelkosten'),\n",
    "    LoehneGehaelterGemeinkosten=get_value(kosten_df, 5, 'Gemeinkosten'),\n",
    "    \n",
    "    # Einstellungen/Entlassungen/Training\n",
    "    PersonalentwicklungEinzelkosten=get_value(kosten_df, 6, 'Einzelkosten'),\n",
    "    PersonalentwicklungGemeinkosten=get_value(kosten_df, 6, 'Gemeinkosten'),\n",
    "    \n",
    "    # Sozialplan\n",
    "    SozialplanEinzelkosten=get_value(kosten_df, 7, 'Einzelkosten'),\n",
    "    SozialplanGemeinkosten=get_value(kosten_df, 7, 'Gemeinkosten'),\n",
    "    \n",
    "    # Personalnebenkosten\n",
    "    PersonalnebenkostenEinzelkosten=get_value(kosten_df, 8, 'Einzelkosten'),\n",
    "    PersonalnebenkostenGemeinkosten=get_value(kosten_df, 8, 'Gemeinkosten'),\n",
    "    \n",
    "    # Pensionsrückstellungen\n",
    "    PensionsrueckstellungenEinzelkosten=get_value(kosten_df, 9, 'Einzelkosten'),\n",
    "    PensionsrueckstellungenGemeinkosten=get_value(kosten_df, 9, 'Gemeinkosten'),\n",
    "    \n",
    "    # Abschreibungen\n",
    "    AbschreibungenEinzelkosten=get_value(kosten_df, 10, 'Einzelkosten'),\n",
    "    AbschreibungenGemeinkosten=get_value(kosten_df, 10, 'Gemeinkosten'),\n",
    "    \n",
    "    # Gebäude\n",
    "    GebaeudeEinzelkosten=get_value(kosten_df, 11, 'Einzelkosten'),\n",
    "    GebaeudeGemeinkosten=get_value(kosten_df, 11, 'Gemeinkosten'),\n",
    "    \n",
    "    # Fertigungsanlagen\n",
    "    FertigungsanlagenEinzelkosten=get_value(kosten_df, 12, 'Einzelkosten'),\n",
    "    FertigungsanlagenGemeinkosten=get_value(kosten_df, 12, 'Gemeinkosten'),\n",
    "    \n",
    "    # Umwelttechnik\n",
    "    UmwelttechnikEinzelkosten=get_value(kosten_df, 13, 'Einzelkosten'),\n",
    "    UmwelttechnikGemeinkosten=get_value(kosten_df, 13, 'Gemeinkosten'),\n",
    "    \n",
    "    # Fertigerzeugnisse\n",
    "    FertigerzeugnisseEinzelkosten=get_value(kosten_df, 14, 'Einzelkosten'),\n",
    "    FertigerzeugnisseGemeinkosten=get_value(kosten_df, 14, 'Gemeinkosten'),\n",
    "    \n",
    "    # Sonstige Kosten\n",
    "    SonstigeKostenEinzelkosten=get_value(kosten_df, 15, 'Einzelkosten'),\n",
    "    SonstigeKostenGemeinkosten=get_value(kosten_df, 15, 'Gemeinkosten'),\n",
    "    \n",
    "    # Sonstige fixe Kosten\n",
    "    SonstigeFixeKostenEinzelkosten=get_value(kosten_df, 16, 'Einzelkosten'),\n",
    "    SonstigeFixeKostenGemeinkosten=get_value(kosten_df, 16, 'Gemeinkosten'),\n",
    "    \n",
    "    # Instandhaltung/Rationalisierung\n",
    "    InstandhaltungEinzelkosten=get_value(kosten_df, 17, 'Einzelkosten'),\n",
    "    InstandhaltungGemeinkosten=get_value(kosten_df, 17, 'Gemeinkosten'),\n",
    "    \n",
    "    # Prozessoptimierung\n",
    "    ProzessoptimierungEinzelkosten=get_value(kosten_df, 18, 'Einzelkosten'),\n",
    "    ProzessoptimierungGemeinkosten=get_value(kosten_df, 18, 'Gemeinkosten'),\n",
    "    \n",
    "    # Umweltabgabe\n",
    "    UmweltabgabeEinzelkosten=get_value(kosten_df, 19, 'Einzelkosten'),\n",
    "    UmweltabgabeGemeinkosten=get_value(kosten_df, 19, 'Gemeinkosten'),\n",
    "    \n",
    "    # Nacharbeit/Ausschuss\n",
    "    NacharbeitAusschussEinzelkosten=get_value(kosten_df, 20, 'Einzelkosten'),\n",
    "    NacharbeitAusschussGemeinkosten=get_value(kosten_df, 20, 'Gemeinkosten'),\n",
    "    \n",
    "    # Lagerkosten\n",
    "    LagerkostenEinzelkosten=get_value(kosten_df, 21, 'Einzelkosten'),\n",
    "    LagerkostenGemeinkosten=get_value(kosten_df, 21, 'Gemeinkosten'),\n",
    "    \n",
    "    # Werbung/Marktforschung/Corporate Identity\n",
    "    MarketingEinzelkosten=get_value(kosten_df, 22, 'Einzelkosten'),\n",
    "    MarketingGemeinkosten=get_value(kosten_df, 22, 'Gemeinkosten'),\n",
    "    \n",
    "    # Sonstige Kosten F&E\n",
    "    SonstigeFuEEinzelkosten=get_value(kosten_df, 23, 'Einzelkosten'),\n",
    "    SonstigeFuEGemeinkosten=get_value(kosten_df, 23, 'Gemeinkosten'),\n",
    "    \n",
    "    # Transport/Logistik\n",
    "    TransportLogistikEinzelkosten=get_value(kosten_df, 24, 'Einzelkosten'),\n",
    "    TransportLogistikGemeinkosten=get_value(kosten_df, 24, 'Gemeinkosten')\n",
    ")\n",
    "\n",
    "# Überprüfe die Summen\n",
    "print(\"\\nBerechnete Summen:\")\n",
    "print(f\"Summe Einzelkosten: {kar.summe_einzelkosten:.2f} MEUR\")\n",
    "print(f\"Summe Gemeinkosten: {kar.summe_gemeinkosten:.2f} MEUR\")\n",
    "print(f\"Gesamtkosten: {kar.gesamtkosten:.2f} MEUR\")"
   ]
  },
  {
   "cell_type": "code",
   "execution_count": null,
   "id": "0792f4a7",
   "metadata": {},
   "outputs": [],
   "source": []
  }
 ],
 "metadata": {
  "kernelspec": {
   "display_name": "Python 3",
   "language": "python",
   "name": "python3"
  },
  "language_info": {
   "codemirror_mode": {
    "name": "ipython",
    "version": 2
   },
   "file_extension": ".py",
   "mimetype": "text/x-python",
   "name": "python",
   "nbconvert_exporter": "python",
   "pygments_lexer": "ipython2",
   "version": "2.7.6"
  }
 },
 "nbformat": 4,
 "nbformat_minor": 5
}
